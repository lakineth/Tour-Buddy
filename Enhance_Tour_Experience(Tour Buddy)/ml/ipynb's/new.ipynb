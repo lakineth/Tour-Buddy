{
 "cells": [
  {
   "cell_type": "code",
   "execution_count": 34,
   "metadata": {},
   "outputs": [
    {
     "name": "stderr",
     "output_type": "stream",
     "text": [
      "C:\\Users\\Kalana\\AppData\\Local\\Temp\\ipykernel_22460\\4008327531.py:18: SettingWithCopyWarning: \n",
      "A value is trying to be set on a copy of a slice from a DataFrame.\n",
      "Try using .loc[row_indexer,col_indexer] = value instead\n",
      "\n",
      "See the caveats in the documentation: https://pandas.pydata.org/pandas-docs/stable/user_guide/indexing.html#returning-a-view-versus-a-copy\n",
      "  y['Transportation Mode'] = label_encoder.fit_transform(y['Transportation Mode'])\n"
     ]
    },
    {
     "data": {
      "text/plain": [
       "'Van'"
      ]
     },
     "execution_count": 34,
     "metadata": {},
     "output_type": "execute_result"
    }
   ],
   "source": [
    "import pickle\n",
    "import pandas as pd\n",
    "from sklearn.metrics import accuracy_score\n",
    "from sklearn.model_selection import train_test_split\n",
    "from sklearn.preprocessing import OneHotEncoder, LabelEncoder\n",
    "from sklearn.compose import ColumnTransformer\n",
    "from sklearn.ensemble import RandomForestRegressor\n",
    "from sklearn.metrics import mean_squared_error\n",
    "import datetime\n",
    "import numpy as np\n",
    "\n",
    "df = pd.read_excel('Transportation_Recommandation_SampleDataset (Himasha).xlsx')\n",
    "\n",
    "X = df[['Current Location', 'Destination', 'Comfort Level', 'Number of Passengers', \n",
    "        'Vehicle Condition', 'Time Duration (hours)']]\n",
    "y = df[['Transportation Mode', 'Fare (LKR)', 'Distance (km)','Number of Seats Available']]\n",
    "label_encoder = LabelEncoder()\n",
    "y['Transportation Mode'] = label_encoder.fit_transform(y['Transportation Mode'])\n",
    "cat_features = ['Current Location', 'Vehicle Condition', 'Comfort Level', 'Destination']\n",
    "\n",
    "preprocessor = ColumnTransformer(\n",
    "    transformers=[('encoder', OneHotEncoder(handle_unknown='ignore'), cat_features)],\n",
    "    remainder='passthrough')\n",
    "\n",
    "X_train, X_test, y_train, y_test = train_test_split(X, y, test_size=0.2, random_state=42)\n",
    "\n",
    "X_train_encoded = preprocessor.fit_transform(X_train)\n",
    "X_test_encoded = preprocessor.transform(X_test)\n",
    "\n",
    "X_train = preprocessor.fit_transform(X_train)\n",
    "X_test = preprocessor.transform(X_test)\n",
    "\n",
    "model = RandomForestRegressor(random_state=42)\n",
    "model.fit(X_train, y_train)\n",
    "\n",
    "y_pred = model.predict(X_test_encoded)\n",
    "\n",
    "predicted_y = pd.DataFrame({'Transportation_Mode': label_encoder.inverse_transform(np.round(y_pred[:, 0]).astype(int)),\n",
    "                            'Fare': y_pred[:, 1],\n",
    "                            'Distance': y_pred[:, 2],\n",
    "                            'Number_of_Seats_Available': np.round(y_pred[:, 3]).astype(int)})\n",
    "\n",
    "\n",
    "label_encoder.inverse_transform(np.round(y_pred[:, 0]).astype(int))\n",
    "\n",
    "data=preprocessor.transform(pd.DataFrame([['Bentota','Matara','High',3,'Non A/C',3.50]], columns=['Current Location','Destination','Comfort Level','Number of Passengers','Vehicle Condition','Time Duration (hours)']))\n",
    "new_data=model.predict(data)\n",
    "label_encoder.inverse_transform(np.round(new_data[:, 0]).astype(int))[0]"
   ]
  }
 ],
 "metadata": {
  "kernelspec": {
   "display_name": "Python 3",
   "language": "python",
   "name": "python3"
  },
  "language_info": {
   "codemirror_mode": {
    "name": "ipython",
    "version": 3
   },
   "file_extension": ".py",
   "mimetype": "text/x-python",
   "name": "python",
   "nbconvert_exporter": "python",
   "pygments_lexer": "ipython3",
   "version": "3.10.5"
  },
  "orig_nbformat": 4
 },
 "nbformat": 4,
 "nbformat_minor": 2
}
